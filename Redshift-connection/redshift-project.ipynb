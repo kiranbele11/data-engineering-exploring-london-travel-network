{
 "cells": [
  {
   "cell_type": "markdown",
   "metadata": {},
   "source": [
    "# Import necessary libraries"
   ]
  },
  {
   "cell_type": "code",
   "execution_count": 1,
   "metadata": {},
   "outputs": [],
   "source": [
    "import psycopg2\n",
    "import pandas as pd\n",
    "import configparser\n",
    "import warnings\n",
    "warnings.filterwarnings(\"ignore\")\n"
   ]
  },
  {
   "cell_type": "markdown",
   "metadata": {},
   "source": [
    "# Get Connection Details and Establish Connection"
   ]
  },
  {
   "cell_type": "code",
   "execution_count": 2,
   "metadata": {},
   "outputs": [
    {
     "name": "stdout",
     "output_type": "stream",
     "text": [
      "Connection successful\n",
      "Query executed successfully!\n",
      "   month  year  days report_date       journey_type  journeys_millions\n",
      "0      1  2010    31  2010-06-30  Underground & DLR          96.836391\n",
      "1      2  2010    28  2010-06-30  Underground & DLR          90.330504\n",
      "2      3  2010    31  2010-06-30  Underground & DLR          90.038014\n",
      "3      4  2010    30  2010-09-30  Underground & DLR          92.544093\n",
      "4      5  2010    31  2010-09-30  Underground & DLR          88.662911\n",
      "5      6  2010    30  2010-09-30  Underground & DLR          86.375702\n",
      "6      7  2010    31  2010-12-31  Underground & DLR          94.986035\n",
      "7      8  2010    31  2010-12-31  Underground & DLR          97.024794\n",
      "8      9  2010    30  2010-12-31  Underground & DLR          97.029640\n",
      "9     10  2010    31  2011-03-31  Underground & DLR          77.369979\n"
     ]
    }
   ],
   "source": [
    "# Read configuration file\n",
    "config = configparser.ConfigParser()\n",
    "config.read('config.ini')\n",
    "\n",
    "# Redshift connection parameters from config file\n",
    "host = config['redshift']['host']\n",
    "port = config['redshift']['port']\n",
    "dbname = config['redshift']['dbname']\n",
    "user = config['redshift']['user']\n",
    "password = config['redshift']['password']\n",
    "\n",
    "query = \"SELECT * FROM journeys LIMIT 10;\"\n",
    "# Establish connection\n",
    "try:\n",
    "    conn = psycopg2.connect(\n",
    "        host=host,\n",
    "        port=port,\n",
    "        dbname=dbname,\n",
    "        user=user,\n",
    "        password=password,\n",
    "        connect_timeout=10 \n",
    "    )\n",
    "    print(\"Connection successful\")\n",
    "\n",
    "    # Load query results into a DataFrame\n",
    "    df = pd.read_sql_query(query, conn)\n",
    "    print(\"Query executed successfully!\")\n",
    "\n",
    "    # Display the DataFrame\n",
    "    print(df)\n",
    "except Exception as e:\n",
    "    print(f\"Error: {e}\")"
   ]
  },
  {
   "cell_type": "markdown",
   "metadata": {},
   "source": [
    "# Queries to answer some business questions"
   ]
  },
  {
   "cell_type": "code",
   "execution_count": 6,
   "metadata": {},
   "outputs": [
    {
     "name": "stdout",
     "output_type": "stream",
     "text": [
      "Connection successful\n",
      "\n",
      "Executing Query 1: Most popular transport types\n",
      "Query 1 Results:\n",
      "        journey_type  total_journeys_millions\n",
      "0                Bus                 0.024905\n",
      "1  Underground & DLR                 0.015020\n",
      "2         Overground                 0.001667\n",
      "3           TfL Rail                 0.000411\n",
      "4               Tram                 0.000315\n",
      "5   Emirates Airline                 0.000015\n",
      "\n",
      "Executing Query 2: Emirates Airline popularity by month and year\n",
      "Query 2 Results:\n",
      "   month  year  rounded_journeys_millions\n",
      "0      5  2012                       0.53\n",
      "1      6  2012                       0.38\n",
      "2      4  2012                       0.24\n",
      "3      5  2021                       0.19\n",
      "4      5  2013                       0.19\n",
      "\n",
      "Executing Query 3: Least popular years for Underground & DLR\n",
      "Query 3 Results:\n",
      "   year       journey_type  total_journeys_millions\n",
      "0  2020  Underground & DLR               310.179316\n",
      "1  2021  Underground & DLR               748.452544\n",
      "2  2022  Underground & DLR              1064.859009\n",
      "3  2010  Underground & DLR              1096.145588\n",
      "4  2011  Underground & DLR              1156.647654\n",
      "\n",
      "Connection closed.\n"
     ]
    }
   ],
   "source": [
    "# Queries\n",
    "most_popular_types_query = \"\"\"\n",
    "SELECT journey_type,\n",
    "    SUM(journeys_millions)/1000000 as total_journeys_millions\n",
    "FROM journeys\n",
    "GROUP BY journey_type\n",
    "ORDER BY total_journeys_millions DESC;\n",
    "\"\"\"\n",
    "\n",
    "emirates_query = \"\"\"\n",
    "SELECT month, \n",
    "\tyear, \n",
    "\tROUND(journeys_millions,2) AS rounded_journeys_millions\n",
    "FROM journeys\n",
    "WHERE journey_type = 'Emirates Airline' AND journeys_millions IS NOT NULL\n",
    "ORDER BY rounded_journeys_millions DESC\n",
    "LIMIT 5;\n",
    "\"\"\"\n",
    "\n",
    "underground_query = \"\"\"\n",
    "SELECT year,\n",
    "\tjourney_type,\n",
    "\tSUM(journeys_millions) as total_journeys_millions\n",
    "FROM journeys\n",
    "WHERE journey_type LIKE '%Underground%'\n",
    "GROUP BY year, journey_type\n",
    "ORDER BY total_journeys_millions\n",
    "LIMIT 5;\n",
    "\"\"\"\n",
    "\n",
    "try:\n",
    "    # Establish connection\n",
    "    conn = psycopg2.connect(\n",
    "        host=host,\n",
    "        port=port,\n",
    "        dbname=dbname,\n",
    "        user=user,\n",
    "        password=password,\n",
    "        connect_timeout=10 \n",
    "    )\n",
    "    print(\"Connection successful\")\n",
    "\n",
    "    # Query 1: Most popular transport types\n",
    "    print(\"\\nExecuting Query 1: Most popular transport types\")\n",
    "    df1 = pd.read_sql_query(most_popular_types_query, conn)\n",
    "    print(\"Query 1 Results:\")\n",
    "    print(df1)\n",
    "\n",
    "    # Query 2: Emirates Airline popularity by month and year\n",
    "    print(\"\\nExecuting Query 2: Emirates Airline popularity by month and year\")\n",
    "    df2 = pd.read_sql_query(emirates_query, conn)\n",
    "    print(\"Query 2 Results:\")\n",
    "    print(df2)\n",
    "\n",
    "    # Query 3: Least popular years for Underground & DLR\n",
    "    print(\"\\nExecuting Query 3: Least popular years for Underground & DLR\")\n",
    "    df3 = pd.read_sql_query(underground_query, conn)\n",
    "    print(\"Query 3 Results:\")\n",
    "    print(df3)\n",
    "\n",
    "    # Close the connection\n",
    "    conn.close()\n",
    "    print(\"\\nConnection closed.\")\n",
    "\n",
    "except Exception as e:\n",
    "    print(f\"Error: {e}\")"
   ]
  }
 ],
 "metadata": {
  "kernelspec": {
   "display_name": "Python 3",
   "language": "python",
   "name": "python3"
  },
  "language_info": {
   "codemirror_mode": {
    "name": "ipython",
    "version": 3
   },
   "file_extension": ".py",
   "mimetype": "text/x-python",
   "name": "python",
   "nbconvert_exporter": "python",
   "pygments_lexer": "ipython3",
   "version": "3.13.1"
  }
 },
 "nbformat": 4,
 "nbformat_minor": 2
}

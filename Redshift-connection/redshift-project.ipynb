{
 "cells": [
  {
   "cell_type": "code",
   "execution_count": 16,
   "metadata": {},
   "outputs": [],
   "source": [
    "import psycopg2\n",
    "import pandas as pd\n",
    "import configparser\n"
   ]
  },
  {
   "cell_type": "code",
   "execution_count": 17,
   "metadata": {},
   "outputs": [
    {
     "name": "stdout",
     "output_type": "stream",
     "text": [
      "Connection successful\n",
      "Query executed successfully!\n",
      "   month  year  days report_date       journey_type  journeys_millions\n",
      "0      1  2010    31  2010-06-30  Underground & DLR          96.836391\n",
      "1      2  2010    28  2010-06-30  Underground & DLR          90.330504\n",
      "2      3  2010    31  2010-06-30  Underground & DLR          90.038014\n",
      "3      4  2010    30  2010-09-30  Underground & DLR          92.544093\n",
      "4      5  2010    31  2010-09-30  Underground & DLR          88.662911\n",
      "5      6  2010    30  2010-09-30  Underground & DLR          86.375702\n",
      "6      7  2010    31  2010-12-31  Underground & DLR          94.986035\n",
      "7      8  2010    31  2010-12-31  Underground & DLR          97.024794\n",
      "8      9  2010    30  2010-12-31  Underground & DLR          97.029640\n",
      "9     10  2010    31  2011-03-31  Underground & DLR          77.369979\n"
     ]
    },
    {
     "name": "stderr",
     "output_type": "stream",
     "text": [
      "/var/folders/mb/br6q_fb178v9vzc80nb09sy80000gn/T/ipykernel_9983/3030649889.py:26: UserWarning: pandas only supports SQLAlchemy connectable (engine/connection) or database string URI or sqlite3 DBAPI2 connection. Other DBAPI2 objects are not tested. Please consider using SQLAlchemy.\n",
      "  df = pd.read_sql_query(query, conn)\n"
     ]
    }
   ],
   "source": [
    "# Read configuration file\n",
    "config = configparser.ConfigParser()\n",
    "config.read('config.ini')\n",
    "\n",
    "# Redshift connection parameters from config file\n",
    "host = config['redshift']['host']\n",
    "port = config['redshift']['port']\n",
    "dbname = config['redshift']['dbname']\n",
    "user = config['redshift']['user']\n",
    "password = config['redshift']['password']\n",
    "\n",
    "query = \"SELECT * FROM journeys LIMIT 10;\"\n",
    "# Establish connection\n",
    "try:\n",
    "    conn = psycopg2.connect(\n",
    "        host=host,\n",
    "        port=port,\n",
    "        dbname=dbname,\n",
    "        user=user,\n",
    "        password=password,\n",
    "        connect_timeout=10 \n",
    "    )\n",
    "    print(\"Connection successful\")\n",
    "\n",
    "    # Load query results into a DataFrame\n",
    "    df = pd.read_sql_query(query, conn)\n",
    "    print(\"Query executed successfully!\")\n",
    "\n",
    "    # Display the DataFrame\n",
    "    print(df)\n",
    "except Exception as e:\n",
    "    print(f\"Error: {e}\")\n"
   ]
  },
  {
   "cell_type": "code",
   "execution_count": 15,
   "metadata": {},
   "outputs": [
    {
     "name": "stdout",
     "output_type": "stream",
     "text": [
      "Query result: [(1, 2010, 31, datetime.date(2010, 6, 30), 'Underground & DLR', 96.83639076), (2, 2010, 28, datetime.date(2010, 6, 30), 'Underground & DLR', 90.33050361), (3, 2010, 31, datetime.date(2010, 6, 30), 'Underground & DLR', 90.03801412), (4, 2010, 30, datetime.date(2010, 9, 30), 'Underground & DLR', 92.5440925), (5, 2010, 31, datetime.date(2010, 9, 30), 'Underground & DLR', 88.66291085), (6, 2010, 30, datetime.date(2010, 9, 30), 'Underground & DLR', 86.3757023), (7, 2010, 31, datetime.date(2010, 12, 31), 'Underground & DLR', 94.98603486), (8, 2010, 31, datetime.date(2010, 12, 31), 'Underground & DLR', 97.02479406), (9, 2010, 30, datetime.date(2010, 12, 31), 'Underground & DLR', 97.02963968), (10, 2010, 31, datetime.date(2011, 3, 31), 'Underground & DLR', 77.36997907)]\n"
     ]
    }
   ],
   "source": [
    "    # Execute query\n",
    "with conn.cursor() as cursor:\n",
    "        cursor.execute(query)\n",
    "        result = cursor.fetchall()\n",
    "        print(\"Query result:\", result)\n"
   ]
  },
  {
   "cell_type": "code",
   "execution_count": null,
   "metadata": {},
   "outputs": [],
   "source": []
  }
 ],
 "metadata": {
  "kernelspec": {
   "display_name": "Python 3",
   "language": "python",
   "name": "python3"
  },
  "language_info": {
   "codemirror_mode": {
    "name": "ipython",
    "version": 3
   },
   "file_extension": ".py",
   "mimetype": "text/x-python",
   "name": "python",
   "nbconvert_exporter": "python",
   "pygments_lexer": "ipython3",
   "version": "3.13.1"
  }
 },
 "nbformat": 4,
 "nbformat_minor": 2
}

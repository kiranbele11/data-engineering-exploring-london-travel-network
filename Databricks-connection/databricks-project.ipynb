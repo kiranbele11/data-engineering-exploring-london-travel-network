{
 "cells": [
  {
   "cell_type": "code",
   "execution_count": 1,
   "metadata": {},
   "outputs": [],
   "source": [
    "import jaydebeapi\n",
    "import pandas as pd\n",
    "import os\n",
    "from config import ACCESS_TOKEN, UID"
   ]
  },
  {
   "cell_type": "code",
   "execution_count": 2,
   "metadata": {},
   "outputs": [
    {
     "name": "stderr",
     "output_type": "stream",
     "text": [
      "Picked up JAVA_TOOL_OPTIONS: --add-opens=java.base/java.nio=ALL-UNNAMED\n"
     ]
    },
    {
     "name": "stdout",
     "output_type": "stream",
     "text": [
      "WARNING: sun.reflect.Reflection.getCallerClass is not supported. This will impact performance.\n",
      "Query Result:\n",
      "   month  year  days report_date       journey_type  journeys_millions\n",
      "0      1  2010    31  2010-06-30  Underground & DLR          96.836391\n",
      "1      2  2010    28  2010-06-30  Underground & DLR          90.330504\n",
      "2      3  2010    31  2010-06-30  Underground & DLR          90.038014\n",
      "3      4  2010    30  2010-09-30  Underground & DLR          92.544093\n",
      "4      5  2010    31  2010-09-30  Underground & DLR          88.662911\n",
      "5      6  2010    30  2010-09-30  Underground & DLR          86.375702\n",
      "6      7  2010    31  2010-12-31  Underground & DLR          94.986035\n",
      "7      8  2010    31  2010-12-31  Underground & DLR          97.024794\n",
      "8      9  2010    30  2010-12-31  Underground & DLR          97.029640\n",
      "9     10  2010    31  2011-03-31  Underground & DLR          77.369979\n",
      "Connection closed.\n"
     ]
    }
   ],
   "source": [
    "\n",
    "\n",
    "# Add JVM option to fix Apache Arrow memory access\n",
    "os.environ['JAVA_TOOL_OPTIONS'] = '--add-opens=java.base/java.nio=ALL-UNNAMED'\n",
    "\n",
    "# Connection parameters\n",
    "JDBC_URL = \"jdbc:databricks://adb-3055430050503041.1.azuredatabricks.net:443/default;transportMode=http;ssl=1;AuthMech=3;httpPath=/sql/1.0/warehouses/6630450a2133788d;\"\n",
    "JDBC_DRIVER_PATH = \"/Users/kiranbele/Documents/Projects/data-engineering-exploring-london-travel-network/Databricks-connection/DatabricksJDBC42-2.6.40.1071/DatabricksJDBC42.jar\"\n",
    "\n",
    "try:\n",
    "    # Connect to Databricks\n",
    "    conn = jaydebeapi.connect(\n",
    "        \"com.databricks.client.jdbc.Driver\",\n",
    "        JDBC_URL,\n",
    "        {\"PWD\": ACCESS_TOKEN, \"UID\": UID},\n",
    "        JDBC_DRIVER_PATH\n",
    "    )\n",
    "\n",
    "    # Execute query\n",
    "    cursor = conn.cursor()\n",
    "    query = \"SELECT * FROM hive_metastore.default.tfl_journeys_final LIMIT 10\"\n",
    "    cursor.execute(query)\n",
    "\n",
    "    # Fetch results and load into DataFrame\n",
    "    results = cursor.fetchall()\n",
    "    columns = [desc[0] for desc in cursor.description]  # Get column names\n",
    "    df = pd.DataFrame(results, columns=columns)\n",
    "\n",
    "    # Print results\n",
    "    print(\"Query Result:\")\n",
    "    print(df)\n",
    "\n",
    "    # Close resources\n",
    "    cursor.close()\n",
    "    conn.close()\n",
    "    print(\"Connection closed.\")\n",
    "except Exception as e:\n",
    "    print(f\"Error: {e}\")\n"
   ]
  },
  {
   "cell_type": "markdown",
   "metadata": {},
   "source": [
    "## Had trouble using databricks-sql-connector package \n",
    "### since pyarrow and apache-arrow could not work together for some reason. \n"
   ]
  },
  {
   "cell_type": "code",
   "execution_count": null,
   "metadata": {},
   "outputs": [],
   "source": []
  }
 ],
 "metadata": {
  "kernelspec": {
   "display_name": "denv",
   "language": "python",
   "name": "python3"
  },
  "language_info": {
   "codemirror_mode": {
    "name": "ipython",
    "version": 3
   },
   "file_extension": ".py",
   "mimetype": "text/x-python",
   "name": "python",
   "nbconvert_exporter": "python",
   "pygments_lexer": "ipython3",
   "version": "3.13.1"
  }
 },
 "nbformat": 4,
 "nbformat_minor": 2
}

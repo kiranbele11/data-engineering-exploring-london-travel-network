{
 "cells": [
  {
   "cell_type": "markdown",
   "metadata": {},
   "source": [
    "# Import necessary libraries"
   ]
  },
  {
   "cell_type": "code",
   "execution_count": 8,
   "metadata": {},
   "outputs": [],
   "source": [
    "import jaydebeapi\n",
    "import pandas as pd\n",
    "import os\n",
    "from config import ACCESS_TOKEN, UID\n",
    "import warnings\n",
    "warnings.filterwarnings(\"ignore\")"
   ]
  },
  {
   "cell_type": "markdown",
   "metadata": {},
   "source": [
    "# Get Connection Details and Establish Connection"
   ]
  },
  {
   "cell_type": "code",
   "execution_count": 9,
   "metadata": {},
   "outputs": [
    {
     "name": "stdout",
     "output_type": "stream",
     "text": [
      "Query Result:\n",
      "   month  year  days report_date       journey_type  journeys_millions\n",
      "0      1  2010    31  2010-06-30  Underground & DLR          96.836391\n",
      "1      2  2010    28  2010-06-30  Underground & DLR          90.330504\n",
      "2      3  2010    31  2010-06-30  Underground & DLR          90.038014\n",
      "3      4  2010    30  2010-09-30  Underground & DLR          92.544093\n",
      "4      5  2010    31  2010-09-30  Underground & DLR          88.662911\n",
      "5      6  2010    30  2010-09-30  Underground & DLR          86.375702\n",
      "6      7  2010    31  2010-12-31  Underground & DLR          94.986035\n",
      "7      8  2010    31  2010-12-31  Underground & DLR          97.024794\n",
      "8      9  2010    30  2010-12-31  Underground & DLR          97.029640\n",
      "9     10  2010    31  2011-03-31  Underground & DLR          77.369979\n",
      "Connection closed.\n"
     ]
    }
   ],
   "source": [
    "\n",
    "# Add JVM option to fix Apache Arrow memory access\n",
    "os.environ['JAVA_TOOL_OPTIONS'] = '--add-opens=java.base/java.nio=ALL-UNNAMED'\n",
    "\n",
    "# Connection parameters\n",
    "JDBC_URL = \"jdbc:databricks://adb-3055430050503041.1.azuredatabricks.net:443/default;transportMode=http;ssl=1;AuthMech=3;httpPath=/sql/1.0/warehouses/6630450a2133788d;\"\n",
    "JDBC_DRIVER_PATH = \"/Users/kiranbele/Documents/Projects/data-engineering-exploring-london-travel-network/Databricks-connection/DatabricksJDBC42-2.6.40.1071/DatabricksJDBC42.jar\"\n",
    "\n",
    "try:\n",
    "    # Connect to Databricks\n",
    "    conn = jaydebeapi.connect(\n",
    "        \"com.databricks.client.jdbc.Driver\",\n",
    "        JDBC_URL,\n",
    "        {\"PWD\": ACCESS_TOKEN, \"UID\": UID},\n",
    "        JDBC_DRIVER_PATH\n",
    "    )\n",
    "\n",
    "    # Execute query\n",
    "    cursor = conn.cursor()\n",
    "    query = \"SELECT * FROM hive_metastore.default.tfl_journeys_final LIMIT 10\"\n",
    "    cursor.execute(query)\n",
    "\n",
    "    # Fetch results and load into DataFrame\n",
    "    results = cursor.fetchall()\n",
    "    columns = [desc[0] for desc in cursor.description]  # Get column names\n",
    "    df = pd.DataFrame(results, columns=columns)\n",
    "\n",
    "    # Print results\n",
    "    print(\"Query Result:\")\n",
    "    print(df)\n",
    "\n",
    "    # Close resources\n",
    "    cursor.close()\n",
    "    conn.close()\n",
    "    print(\"Connection closed.\")\n",
    "except Exception as e:\n",
    "    print(f\"Error: {e}\")\n"
   ]
  },
  {
   "cell_type": "markdown",
   "metadata": {},
   "source": [
    "# Queries to answer some business questions"
   ]
  },
  {
   "cell_type": "code",
   "execution_count": 10,
   "metadata": {},
   "outputs": [
    {
     "name": "stdout",
     "output_type": "stream",
     "text": [
      "Executing Query 1: Most popular transport types\n",
      "Query 1 Results:\n",
      "        journey_type  total_journeys_millions\n",
      "0                Bus                 0.024905\n",
      "1  Underground & DLR                 0.015020\n",
      "2         Overground                 0.001667\n",
      "3           TfL Rail                 0.000411\n",
      "4               Tram                 0.000315\n",
      "5   Emirates Airline                 0.000015\n",
      "\n",
      "Executing Query 2: Emirates Airline popularity by month and year\n",
      "Query 2 Results:\n",
      "   month  year  rounded_journeys_millions\n",
      "0      5  2012                       0.53\n",
      "1      6  2012                       0.38\n",
      "2      4  2012                       0.24\n",
      "3      5  2013                       0.19\n",
      "4      5  2015                       0.19\n",
      "\n",
      "Executing Query 3: Least popular years for Underground & DLR\n",
      "Query 3 Results:\n",
      "   year       journey_type  total_journeys_millions\n",
      "0  2020  Underground & DLR               310.179316\n",
      "1  2021  Underground & DLR               748.452544\n",
      "2  2022  Underground & DLR              1064.859009\n",
      "3  2010  Underground & DLR              1096.145588\n",
      "4  2011  Underground & DLR              1156.647654\n",
      "\n",
      "Connection closed.\n"
     ]
    }
   ],
   "source": [
    "\n",
    "# Query 1: Most popular transport types\n",
    "most_popular_types_query = \"\"\"\n",
    "SELECT journey_type,\n",
    "    SUM(journeys_millions)/1000000 as total_journeys_millions\n",
    "FROM hive_metastore.default.tfl_journeys_final\n",
    "GROUP BY journey_type\n",
    "ORDER BY total_journeys_millions DESC;\n",
    "\"\"\"\n",
    "\n",
    "# Query 2: Emirates Airline popularity by month and year\n",
    "emirates_query = \"\"\"\n",
    "SELECT month, \n",
    "\tyear, \n",
    "\tROUND(journeys_millions,2) AS rounded_journeys_millions\n",
    "FROM hive_metastore.default.tfl_journeys_final\n",
    "WHERE journey_type = 'Emirates Airline' AND journeys_millions IS NOT NULL\n",
    "ORDER BY rounded_journeys_millions DESC\n",
    "LIMIT 5;\n",
    "\"\"\"\n",
    "\n",
    "# Query 3: Least popular years for Underground & DLR\n",
    "underground_query = \"\"\"\n",
    "SELECT year,\n",
    "\tjourney_type,\n",
    "\tSUM(journeys_millions) as total_journeys_millions\n",
    "FROM hive_metastore.default.tfl_journeys_final\n",
    "WHERE journey_type LIKE '%Underground%'\n",
    "GROUP BY year, journey_type\n",
    "ORDER BY total_journeys_millions\n",
    "LIMIT 5;\n",
    "\"\"\"\n",
    "\n",
    "try:\n",
    "    # Connect to Databricks\n",
    "    conn = jaydebeapi.connect(\n",
    "        \"com.databricks.client.jdbc.Driver\",\n",
    "        JDBC_URL,\n",
    "        {\"PWD\": ACCESS_TOKEN, \"UID\": UID},\n",
    "        JDBC_DRIVER_PATH\n",
    "    )\n",
    "\n",
    "    # Create a cursor object\n",
    "    cursor = conn.cursor()\n",
    "\n",
    "    # Execute and fetch results for Query 1\n",
    "    print(\"Executing Query 1: Most popular transport types\")\n",
    "    cursor.execute(most_popular_types_query)\n",
    "    results_1 = cursor.fetchall()\n",
    "    columns_1 = [desc[0] for desc in cursor.description]\n",
    "    df1 = pd.DataFrame(results_1, columns=columns_1)\n",
    "    print(\"Query 1 Results:\")\n",
    "    print(df1)\n",
    "\n",
    "    # Execute and fetch results for Query 2\n",
    "    print(\"\\nExecuting Query 2: Emirates Airline popularity by month and year\")\n",
    "    cursor.execute(emirates_query)\n",
    "    results_2 = cursor.fetchall()\n",
    "    columns_2 = [desc[0] for desc in cursor.description]\n",
    "    df2 = pd.DataFrame(results_2, columns=columns_2)\n",
    "    print(\"Query 2 Results:\")\n",
    "    print(df2)\n",
    "\n",
    "    # Execute and fetch results for Query 3\n",
    "    print(\"\\nExecuting Query 3: Least popular years for Underground & DLR\")\n",
    "    cursor.execute(underground_query)\n",
    "    results_3 = cursor.fetchall()\n",
    "    columns_3 = [desc[0] for desc in cursor.description]\n",
    "    df3 = pd.DataFrame(results_3, columns=columns_3)\n",
    "    print(\"Query 3 Results:\")\n",
    "    print(df3)\n",
    "\n",
    "    # Close cursor and connection\n",
    "    cursor.close()\n",
    "    conn.close()\n",
    "    print(\"\\nConnection closed.\")\n",
    "\n",
    "except Exception as e:\n",
    "    print(f\"Error: {e}\")\n"
   ]
  },
  {
   "cell_type": "markdown",
   "metadata": {},
   "source": [
    "## Had trouble using databricks-sql-connector package \n",
    "### since pyarrow and apache-arrow could not work together for some reason. \n"
   ]
  }
 ],
 "metadata": {
  "kernelspec": {
   "display_name": "denv",
   "language": "python",
   "name": "python3"
  },
  "language_info": {
   "codemirror_mode": {
    "name": "ipython",
    "version": 3
   },
   "file_extension": ".py",
   "mimetype": "text/x-python",
   "name": "python",
   "nbconvert_exporter": "python",
   "pygments_lexer": "ipython3",
   "version": "3.13.1"
  }
 },
 "nbformat": 4,
 "nbformat_minor": 2
}

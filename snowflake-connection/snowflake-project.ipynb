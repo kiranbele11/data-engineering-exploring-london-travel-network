{
 "cells": [
  {
   "cell_type": "markdown",
   "metadata": {},
   "source": [
    "# Import necessary libraries"
   ]
  },
  {
   "cell_type": "code",
   "execution_count": 16,
   "metadata": {},
   "outputs": [],
   "source": [
    "import configparser\n",
    "import os\n",
    "from dotenv import load_dotenv"
   ]
  },
  {
   "cell_type": "code",
   "execution_count": 17,
   "metadata": {},
   "outputs": [
    {
     "data": {
      "text/plain": [
       "['config.env']"
      ]
     },
     "execution_count": 17,
     "metadata": {},
     "output_type": "execute_result"
    }
   ],
   "source": [
    "config = configparser.ConfigParser()\n",
    "config.read('config.env')"
   ]
  },
  {
   "cell_type": "code",
   "execution_count": 18,
   "metadata": {},
   "outputs": [
    {
     "data": {
      "text/plain": [
       "False"
      ]
     },
     "execution_count": 18,
     "metadata": {},
     "output_type": "execute_result"
    }
   ],
   "source": [
    "load_dotenv()"
   ]
  },
  {
   "cell_type": "markdown",
   "metadata": {},
   "source": [
    "# Get Connection Details   "
   ]
  },
  {
   "cell_type": "code",
   "execution_count": 19,
   "metadata": {},
   "outputs": [],
   "source": [
    "conn = snowflake.connector.connect(\n",
    "    user=config['snowflake']['user'],     \n",
    "    password=config['snowflake']['password'], \n",
    "    account=config['snowflake']['account'],    \n",
    "    warehouse=config['snowflake']['warehouse'],  \n",
    "    database=config['snowflake']['database'],    \n",
    "    schema=config['snowflake']['schema'],        \n",
    "    client_session_keep_alive=True\n",
    ")"
   ]
  },
  {
   "cell_type": "markdown",
   "metadata": {},
   "source": [
    "# Establish snowflake connection"
   ]
  },
  {
   "cell_type": "code",
   "execution_count": 20,
   "metadata": {},
   "outputs": [
    {
     "name": "stdout",
     "output_type": "stream",
     "text": [
      "Connecting to Snowflake...\n"
     ]
    }
   ],
   "source": [
    "print(\"Connecting to Snowflake...\")\n",
    "cursor = conn.cursor()"
   ]
  },
  {
   "cell_type": "markdown",
   "metadata": {},
   "source": [
    "# Queries to answer some business questions"
   ]
  },
  {
   "cell_type": "code",
   "execution_count": 21,
   "metadata": {},
   "outputs": [],
   "source": [
    "# Query 1: Most popular transport types\n",
    "most_popular_types_query = \"\"\"\n",
    "SELECT journey_type,\n",
    "    SUM(journeys_millions)/1000000 as total_journeys_millions\n",
    "FROM KBELE_LONDON.PUBLIC.JOURNEYS\n",
    "GROUP BY journey_type\n",
    "ORDER BY total_journeys_millions DESC;\n",
    "\"\"\"\n",
    "\n",
    "# Query 2: Emirates Airline popularity by month and year\n",
    "emirates_query = \"\"\"\n",
    "SELECT month,\n",
    "    year,\n",
    "    ROUND(journeys_millions/1000000, 2) as rounded_journeys_millions\n",
    "FROM KBELE_LONDON.PUBLIC.JOURNEYS\n",
    "WHERE journey_type = 'Emirates Airline'\n",
    "AND journeys_millions IS NOT NULL\n",
    "ORDER BY rounded_journeys_millions DESC\n",
    "LIMIT 5;\n",
    "\"\"\"\n",
    "\n",
    "# Query 3: Least popular years for Underground & DLR\n",
    "underground_query = \"\"\"\n",
    "SELECT year,\n",
    "    journey_type,\n",
    "    SUM(journeys_millions)/1000000 as total_journeys_millions\n",
    "FROM KBELE_LONDON.PUBLIC.JOURNEYS\n",
    "WHERE journey_type = 'Underground & DLR'\n",
    "GROUP BY year, journey_type\n",
    "ORDER BY total_journeys_millions ASC\n",
    "LIMIT 5;\n",
    "\"\"\""
   ]
  },
  {
   "cell_type": "markdown",
   "metadata": {},
   "source": [
    "# Execute first query"
   ]
  },
  {
   "cell_type": "code",
   "execution_count": 22,
   "metadata": {},
   "outputs": [
    {
     "name": "stdout",
     "output_type": "stream",
     "text": [
      "Connecting to Snowflake...\n",
      "\n",
      "Most Popular Transport Types:\n",
      "        journey_type total_journeys_millions\n",
      "0                Bus          0.024905193947\n",
      "1  Underground & DLR          0.015020466544\n",
      "2         Overground          0.001666845666\n",
      "3           TfL Rail          0.000411313421\n",
      "4               Tram          0.000314689875\n",
      "5   Emirates Airline          0.000014583718\n"
     ]
    }
   ],
   "source": [
    "try:\n",
    "    # query\n",
    "    # query = \"SELECT * FROM KBELE_LONDON.PUBLIC.JOURNEYS LIMIT 10;\"  \n",
    "    # cursor.execute(query)\n",
    "\n",
    "    # # Fetch the results\n",
    "    # results = cursor.fetchall()\n",
    "\n",
    "    # # Print the results\n",
    "    # print(\"Query Results:\")\n",
    "    # for row in results:\n",
    "    #     print(row)\n",
    "    print(\"Connecting to Snowflake...\")\n",
    "    cursor = conn.cursor()\n",
    "    # Execute and fetch results for each query\n",
    "    print(\"\\nMost Popular Transport Types:\")\n",
    "    cursor.execute(most_popular_types_query)\n",
    "    results1 = cursor.fetchall()\n",
    "    df_popular_types = pd.DataFrame(results1, columns=['journey_type', 'total_journeys_millions'])\n",
    "    print(df_popular_types)\n",
    "        \n",
    "    # print(\"\\nTop 5 Months for Emirates Airline:\")\n",
    "    # cursor.execute(emirates_query)\n",
    "    # results2 = cursor.fetchall()\n",
    "    # for row in results2:\n",
    "    #     print(row)\n",
    "        \n",
    "    # print(\"\\nLeast Popular Years for Underground & DLR:\")\n",
    "    # cursor.execute(underground_query)\n",
    "    # results3 = cursor.fetchall()\n",
    "    # for row in results3:\n",
    "\n",
    "except Exception as e:\n",
    "    print(f\"Error: {e}\")\n",
    "finally:\n",
    "    cursor.close()\n",
    "    conn.close()"
   ]
  },
  {
   "cell_type": "code",
   "execution_count": null,
   "metadata": {},
   "outputs": [],
   "source": []
  }
 ],
 "metadata": {
  "kernelspec": {
   "display_name": "Python 3",
   "language": "python",
   "name": "python3"
  },
  "language_info": {
   "codemirror_mode": {
    "name": "ipython",
    "version": 3
   },
   "file_extension": ".py",
   "mimetype": "text/x-python",
   "name": "python",
   "nbconvert_exporter": "python",
   "pygments_lexer": "ipython3",
   "version": "3.13.1"
  }
 },
 "nbformat": 4,
 "nbformat_minor": 2
}

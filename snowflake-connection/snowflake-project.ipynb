{
 "cells": [
  {
   "cell_type": "markdown",
   "metadata": {},
   "source": [
    "# Import necessary libraries"
   ]
  },
  {
   "cell_type": "code",
   "execution_count": 8,
   "metadata": {},
   "outputs": [],
   "source": [
    "import snowflake.connector\n",
    "import configparser\n",
    "import os\n",
    "from dotenv import load_dotenv\n",
    "import pandas as pd"
   ]
  },
  {
   "cell_type": "code",
   "execution_count": 2,
   "metadata": {},
   "outputs": [
    {
     "data": {
      "text/plain": [
       "['config.env']"
      ]
     },
     "execution_count": 2,
     "metadata": {},
     "output_type": "execute_result"
    }
   ],
   "source": [
    "config = configparser.ConfigParser()\n",
    "config.read('config.env')"
   ]
  },
  {
   "cell_type": "code",
   "execution_count": 3,
   "metadata": {},
   "outputs": [
    {
     "data": {
      "text/plain": [
       "False"
      ]
     },
     "execution_count": 3,
     "metadata": {},
     "output_type": "execute_result"
    }
   ],
   "source": [
    "load_dotenv()"
   ]
  },
  {
   "cell_type": "markdown",
   "metadata": {},
   "source": [
    "# Get Connection Details   "
   ]
  },
  {
   "cell_type": "code",
   "execution_count": 4,
   "metadata": {},
   "outputs": [],
   "source": [
    "conn = snowflake.connector.connect(\n",
    "    user=config['snowflake']['user'],     \n",
    "    password=config['snowflake']['password'], \n",
    "    account=config['snowflake']['account'],    \n",
    "    warehouse=config['snowflake']['warehouse'],  \n",
    "    database=config['snowflake']['database'],    \n",
    "    schema=config['snowflake']['schema'],        \n",
    "    client_session_keep_alive=True\n",
    ")"
   ]
  },
  {
   "cell_type": "markdown",
   "metadata": {},
   "source": [
    "# Establish snowflake connection"
   ]
  },
  {
   "cell_type": "code",
   "execution_count": 5,
   "metadata": {},
   "outputs": [
    {
     "name": "stdout",
     "output_type": "stream",
     "text": [
      "Connecting to Snowflake...\n"
     ]
    }
   ],
   "source": [
    "print(\"Connecting to Snowflake...\")\n",
    "cursor = conn.cursor()"
   ]
  },
  {
   "cell_type": "markdown",
   "metadata": {},
   "source": [
    "# Queries to answer some business questions"
   ]
  },
  {
   "cell_type": "code",
   "execution_count": 15,
   "metadata": {},
   "outputs": [],
   "source": [
    "# Query 1: Most popular transport types\n",
    "most_popular_types_query = \"\"\"\n",
    "SELECT journey_type,\n",
    "    SUM(journeys_millions)/1000000 as total_journeys_millions\n",
    "FROM KBELE_LONDON.PUBLIC.JOURNEYS\n",
    "GROUP BY journey_type\n",
    "ORDER BY total_journeys_millions DESC;\n",
    "\"\"\"\n",
    "\n",
    "# Query 2: Emirates Airline popularity by month and year\n",
    "emirates_query = \"\"\"\n",
    "SELECT month, \n",
    "\tyear, \n",
    "\tROUND(journeys_millions,2) AS rounded_journeys_millions\n",
    "FROM KBELE_LONDON.PUBLIC.JOURNEYS\n",
    "WHERE journey_type = 'Emirates Airline' AND journeys_millions IS NOT NULL\n",
    "ORDER BY rounded_journeys_millions DESC\n",
    "LIMIT 5;\n",
    "\"\"\"\n",
    "\n",
    "# Query 3: Least popular years for Underground & DLR\n",
    "underground_query = \"\"\"\n",
    "SELECT year,\n",
    "\tjourney_type,\n",
    "\tSUM(journeys_millions) as total_journeys_millions\n",
    "FROM KBELE_LONDON.PUBLIC.JOURNEYS\n",
    "WHERE journey_type LIKE '%Underground%'\n",
    "GROUP BY year, journey_type\n",
    "ORDER BY total_journeys_millions\n",
    "LIMIT 5;\n",
    "\"\"\""
   ]
  },
  {
   "cell_type": "code",
   "execution_count": 9,
   "metadata": {},
   "outputs": [
    {
     "name": "stdout",
     "output_type": "stream",
     "text": [
      "\n",
      "Most Popular Transport Types:\n",
      "        journey_type total_journeys_millions\n",
      "0                Bus          0.024905193947\n",
      "1  Underground & DLR          0.015020466544\n",
      "2         Overground          0.001666845666\n",
      "3           TfL Rail          0.000411313421\n",
      "4               Tram          0.000314689875\n",
      "5   Emirates Airline          0.000014583718\n"
     ]
    }
   ],
   "source": [
    "\n",
    "print(\"\\nMost Popular Transport Types:\")\n",
    "cursor.execute(most_popular_types_query)\n",
    "results1 = cursor.fetchall()\n",
    "df_popular_types = pd.DataFrame(results1, columns=['journey_type', 'total_journeys_millions'])\n",
    "print(df_popular_types)"
   ]
  },
  {
   "cell_type": "code",
   "execution_count": 14,
   "metadata": {},
   "outputs": [
    {
     "name": "stdout",
     "output_type": "stream",
     "text": [
      "\n",
      "Top 5 Months for Emirates Airline:\n",
      "   Month  Year rounded_journeys_millions\n",
      "0      5  2012                      0.53\n",
      "1      6  2012                      0.38\n",
      "2      4  2012                      0.24\n",
      "3      5  2013                      0.19\n",
      "4      5  2015                      0.19\n"
     ]
    }
   ],
   "source": [
    "print(\"\\nTop 5 Months for Emirates Airline:\")\n",
    "cursor.execute(emirates_query)\n",
    "results2 = cursor.fetchall()\n",
    "df_top = pd.DataFrame(results2, columns=['Month', 'Year', 'rounded_journeys_millions'])\n",
    "print(df_top)\n"
   ]
  },
  {
   "cell_type": "code",
   "execution_count": 16,
   "metadata": {},
   "outputs": [
    {
     "name": "stdout",
     "output_type": "stream",
     "text": [
      "\n",
      "Least Popular Years for Underground & DLR:\n",
      "   Year       journey_type total_journeys_millions\n",
      "0  2020  Underground & DLR          310.1793163140\n",
      "1  2021  Underground & DLR          748.4525442000\n",
      "2  2022  Underground & DLR         1064.8590086000\n",
      "3  2010  Underground & DLR         1096.1455883800\n",
      "4  2011  Underground & DLR         1156.6476544800\n"
     ]
    }
   ],
   "source": [
    "print(\"\\nLeast Popular Years for Underground & DLR:\")\n",
    "cursor.execute(underground_query)\n",
    "results3 = cursor.fetchall()\n",
    "df_least_pop = pd.DataFrame(results3, columns=['Year', 'journey_type', 'total_journeys_millions'])\n",
    "print(df_least_pop)"
   ]
  },
  {
   "cell_type": "markdown",
   "metadata": {},
   "source": [
    "# Execute first query"
   ]
  },
  {
   "cell_type": "code",
   "execution_count": 18,
   "metadata": {},
   "outputs": [
    {
     "ename": "SyntaxError",
     "evalue": "invalid syntax (686037153.py, line 1)",
     "output_type": "error",
     "traceback": [
      "\u001b[0;36m  Cell \u001b[0;32mIn[18], line 1\u001b[0;36m\u001b[0m\n\u001b[0;31m    finally:\u001b[0m\n\u001b[0m    ^\u001b[0m\n\u001b[0;31mSyntaxError\u001b[0m\u001b[0;31m:\u001b[0m invalid syntax\n"
     ]
    }
   ],
   "source": [
    "finally:\n",
    "cursor.close()\n",
    "conn.close()"
   ]
  },
  {
   "cell_type": "code",
   "execution_count": null,
   "metadata": {},
   "outputs": [],
   "source": []
  }
 ],
 "metadata": {
  "kernelspec": {
   "display_name": "Python 3",
   "language": "python",
   "name": "python3"
  },
  "language_info": {
   "codemirror_mode": {
    "name": "ipython",
    "version": 3
   },
   "file_extension": ".py",
   "mimetype": "text/x-python",
   "name": "python",
   "nbconvert_exporter": "python",
   "pygments_lexer": "ipython3",
   "version": "3.13.1"
  }
 },
 "nbformat": 4,
 "nbformat_minor": 2
}

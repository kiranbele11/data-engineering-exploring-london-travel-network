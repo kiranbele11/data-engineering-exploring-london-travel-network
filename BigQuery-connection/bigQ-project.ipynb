{
 "cells": [
  {
   "cell_type": "markdown",
   "metadata": {},
   "source": [
    "# Import necessary libraries"
   ]
  },
  {
   "cell_type": "code",
   "execution_count": 5,
   "metadata": {},
   "outputs": [],
   "source": [
    "from google.cloud import bigquery\n",
    "import os\n",
    "from google.oauth2 import service_account\n",
    "import pandas as pd\n",
    "import db_dtypes\n",
    "import warnings\n",
    "warnings.filterwarnings(\"ignore\")\n"
   ]
  },
  {
   "cell_type": "markdown",
   "metadata": {},
   "source": [
    "# Get Connection Details and Establish Connection"
   ]
  },
  {
   "cell_type": "code",
   "execution_count": 6,
   "metadata": {},
   "outputs": [
    {
     "name": "stdout",
     "output_type": "stream",
     "text": [
      "<google.cloud.bigquery.client.Client object at 0x122fe2210>\n",
      "Datasets in the project:\n",
      " - KBELE_LONDON\n"
     ]
    }
   ],
   "source": [
    "# Set up credentials\n",
    "credentials = service_account.Credentials.from_service_account_file('/Users/kiranbele/Downloads/bigq-data-engineering.json')\n",
    "\n",
    "project_id = \"bigq-data-engineering-444816\"\n",
    "# Initialize the BigQuery client\n",
    "client = bigquery.Client(credentials=credentials, project=project_id)\n",
    "# client = bigquery.Client()\n",
    "print(client)\n",
    "\n",
    "# # Verify the connection: List datasets in your project\n",
    "#   # Replace with your Project ID\n",
    "datasets = list(client.list_datasets(project=project_id))\n",
    "if datasets:\n",
    "    print(\"Datasets in the project:\")\n",
    "    for dataset in datasets:\n",
    "        print(f\" - {dataset.dataset_id}\")\n",
    "else:\n",
    "    print(f\"No datasets found in project '{project_id}'.\")"
   ]
  },
  {
   "cell_type": "code",
   "execution_count": 7,
   "metadata": {},
   "outputs": [
    {
     "name": "stdout",
     "output_type": "stream",
     "text": [
      "   month  year  days report_date       journey_type  journeys_millions\n",
      "0      2  2020    29  2020-06-30  Underground & DLR           8.041099\n",
      "1      2  2020    29  2020-06-30                Bus          32.467243\n",
      "2      2  2020    29  2020-06-30               Tram           0.470811\n",
      "3      2  2020    29  2020-06-30         Overground           1.491890\n",
      "4      2  2020    29  2020-06-30   Emirates Airline           0.004978\n"
     ]
    }
   ],
   "source": [
    "# Execute a query\n",
    "query = f\"\"\"\n",
    "SELECT *\n",
    "FROM {project_id}.KBELE_LONDON.JOURNEYS\n",
    "LIMIT 10\n",
    "\"\"\"\n",
    "query_job = client.query(query)\n",
    "\n",
    "df = query_job.to_dataframe()\n",
    "\n",
    "print(df.head())"
   ]
  },
  {
   "cell_type": "markdown",
   "metadata": {},
   "source": [
    "# Queries to answer some business questions"
   ]
  },
  {
   "cell_type": "code",
   "execution_count": 8,
   "metadata": {},
   "outputs": [
    {
     "name": "stdout",
     "output_type": "stream",
     "text": [
      "Executing Query 1: Most popular transport types\n",
      "Query 1 Results:\n",
      "        journey_type  total_journeys_millions\n",
      "0                Bus                 0.024905\n",
      "1  Underground & DLR                 0.015020\n",
      "2         Overground                 0.001667\n",
      "3           TfL Rail                 0.000411\n",
      "4               Tram                 0.000315\n",
      "\n",
      "Executing Query 2: Emirates Airline popularity by month and year\n",
      "Query 2 Results:\n",
      "   month  year  rounded_journeys_millions\n",
      "0      5  2012                       0.53\n",
      "1      6  2012                       0.38\n",
      "2      4  2012                       0.24\n",
      "3      5  2022                       0.19\n",
      "4      5  2021                       0.19\n",
      "\n",
      "Executing Query 3: Least popular years for Underground & DLR\n",
      "Query 3 Results:\n",
      "   year       journey_type  total_journeys_millions\n",
      "0  2020  Underground & DLR               310.179316\n",
      "1  2021  Underground & DLR               748.452544\n",
      "2  2022  Underground & DLR              1064.859009\n",
      "3  2010  Underground & DLR              1096.145588\n",
      "4  2011  Underground & DLR              1156.647654\n"
     ]
    }
   ],
   "source": [
    "# Query 1: Most popular transport types\n",
    "most_popular_types_query = f\"\"\"\n",
    "SELECT journey_type,\n",
    "    SUM(journeys_millions)/1000000 as total_journeys_millions\n",
    "FROM {project_id}.KBELE_LONDON.JOURNEYS\n",
    "GROUP BY journey_type\n",
    "ORDER BY total_journeys_millions DESC;\n",
    "\"\"\"\n",
    "\n",
    "# Query 2: Emirates Airline popularity by month and year\n",
    "emirates_query = f\"\"\"\n",
    "SELECT month, \n",
    "\tyear, \n",
    "\tROUND(journeys_millions, 2) AS rounded_journeys_millions\n",
    "FROM {project_id}.KBELE_LONDON.JOURNEYS\n",
    "WHERE journey_type = 'Emirates Airline' AND journeys_millions IS NOT NULL\n",
    "ORDER BY rounded_journeys_millions DESC\n",
    "LIMIT 5;\n",
    "\"\"\"\n",
    "\n",
    "# Query 3: Least popular years for Underground & DLR\n",
    "underground_query = f\"\"\"\n",
    "SELECT year,\n",
    "\tjourney_type,\n",
    "\tSUM(journeys_millions) as total_journeys_millions\n",
    "FROM {project_id}.KBELE_LONDON.JOURNEYS\n",
    "WHERE journey_type LIKE '%Underground%'\n",
    "GROUP BY year, journey_type\n",
    "ORDER BY total_journeys_millions\n",
    "LIMIT 5;\n",
    "\"\"\"\n",
    "\n",
    "# Execute queries and fetch results\n",
    "try:\n",
    "    # Query 1\n",
    "    print(\"Executing Query 1: Most popular transport types\")\n",
    "    query_job = client.query(most_popular_types_query)\n",
    "    df1 = query_job.to_dataframe()\n",
    "    print(\"Query 1 Results:\")\n",
    "    print(df1.head())\n",
    "\n",
    "    # Query 2\n",
    "    print(\"\\nExecuting Query 2: Emirates Airline popularity by month and year\")\n",
    "    query_job = client.query(emirates_query)\n",
    "    df2 = query_job.to_dataframe()\n",
    "    print(\"Query 2 Results:\")\n",
    "    print(df2.head())\n",
    "\n",
    "    # Query 3\n",
    "    print(\"\\nExecuting Query 3: Least popular years for Underground & DLR\")\n",
    "    query_job = client.query(underground_query)\n",
    "    df3 = query_job.to_dataframe()\n",
    "    print(\"Query 3 Results:\")\n",
    "    print(df3.head())\n",
    "\n",
    "except Exception as e:\n",
    "    print(f\"An error occurred: {e}\")"
   ]
  }
 ],
 "metadata": {
  "kernelspec": {
   "display_name": "Python 3",
   "language": "python",
   "name": "python3"
  },
  "language_info": {
   "codemirror_mode": {
    "name": "ipython",
    "version": 3
   },
   "file_extension": ".py",
   "mimetype": "text/x-python",
   "name": "python",
   "nbconvert_exporter": "python",
   "pygments_lexer": "ipython3",
   "version": "3.13.1"
  }
 },
 "nbformat": 4,
 "nbformat_minor": 2
}

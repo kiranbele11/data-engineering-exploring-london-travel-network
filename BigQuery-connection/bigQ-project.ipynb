{
 "cells": [
  {
   "cell_type": "code",
   "execution_count": 1,
   "metadata": {},
   "outputs": [],
   "source": [
    "from google.cloud import bigquery\n",
    "import os\n",
    "from google.oauth2 import service_account\n",
    "import pandas as pd\n",
    "import db_dtypes\n"
   ]
  },
  {
   "cell_type": "code",
   "execution_count": 5,
   "metadata": {},
   "outputs": [
    {
     "name": "stdout",
     "output_type": "stream",
     "text": [
      "<google.cloud.bigquery.client.Client object at 0x122d416e0>\n",
      "Datasets in the project:\n",
      " - KBELE_LONDON\n"
     ]
    }
   ],
   "source": [
    "# # Set up the service account credentials\n",
    "# os.environ[\"GOOGLE_APPLICATION_CREDENTIALS\"] = \"/Users/kiranbele/Downloads/bigq-data-engineering.json\"\n",
    "# Set up credentials\n",
    "credentials = service_account.Credentials.from_service_account_file('/Users/kiranbele/Downloads/bigq-data-engineering.json')\n",
    "\n",
    "project_id = \"bigq-data-engineering-444816\"\n",
    "# Initialize the BigQuery client\n",
    "client = bigquery.Client(credentials=credentials, project=project_id)\n",
    "# client = bigquery.Client()\n",
    "print(client)\n",
    "\n",
    "# # Verify the connection: List datasets in your project\n",
    "#   # Replace with your Project ID\n",
    "datasets = list(client.list_datasets(project=project_id))\n",
    "if datasets:\n",
    "    print(\"Datasets in the project:\")\n",
    "    for dataset in datasets:\n",
    "        print(f\" - {dataset.dataset_id}\")\n",
    "else:\n",
    "    print(f\"No datasets found in project '{project_id}'.\")\n",
    "\n",
    "\n",
    "\n"
   ]
  },
  {
   "cell_type": "code",
   "execution_count": 6,
   "metadata": {},
   "outputs": [
    {
     "name": "stdout",
     "output_type": "stream",
     "text": [
      "   month  year  days report_date       journey_type  journeys_millions\n",
      "0      2  2020    29  2020-06-30  Underground & DLR           8.041099\n",
      "1      2  2020    29  2020-06-30                Bus          32.467243\n",
      "2      2  2020    29  2020-06-30               Tram           0.470811\n",
      "3      2  2020    29  2020-06-30         Overground           1.491890\n",
      "4      2  2020    29  2020-06-30   Emirates Airline           0.004978\n"
     ]
    },
    {
     "name": "stderr",
     "output_type": "stream",
     "text": [
      "/Users/kiranbele/Documents/Projects/data-engineering-exploring-london-travel-network/BigQuery-connection/myenv/lib/python3.13/site-packages/google/cloud/bigquery/table.py:1727: UserWarning: BigQuery Storage module not found, fetch data with the REST endpoint instead.\n",
      "  warnings.warn(\n"
     ]
    }
   ],
   "source": [
    "# Execute a query\n",
    "query = f\"\"\"\n",
    "SELECT *\n",
    "FROM {project_id}.KBELE_LONDON.JOURNEYS\n",
    "LIMIT 10\n",
    "\"\"\"\n",
    "query_job = client.query(query)\n",
    "\n",
    "df = query_job.to_dataframe()\n",
    "\n",
    "print(df.head())"
   ]
  },
  {
   "cell_type": "code",
   "execution_count": null,
   "metadata": {},
   "outputs": [],
   "source": []
  }
 ],
 "metadata": {
  "kernelspec": {
   "display_name": "Python 3",
   "language": "python",
   "name": "python3"
  },
  "language_info": {
   "codemirror_mode": {
    "name": "ipython",
    "version": 3
   },
   "file_extension": ".py",
   "mimetype": "text/x-python",
   "name": "python",
   "nbconvert_exporter": "python",
   "pygments_lexer": "ipython3",
   "version": "3.13.1"
  }
 },
 "nbformat": 4,
 "nbformat_minor": 2
}
